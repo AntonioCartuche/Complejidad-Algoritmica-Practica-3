{
  "nbformat": 4,
  "nbformat_minor": 0,
  "metadata": {
    "colab": {
      "name": "Teoría-Eficiencia de un algoritmo",
      "provenance": [],
      "authorship_tag": "ABX9TyOSXFF6rTSLCCdwizwPOdRE",
      "include_colab_link": true
    },
    "kernelspec": {
      "name": "python3",
      "display_name": "Python 3"
    },
    "language_info": {
      "name": "python"
    }
  },
  "cells": [
    {
      "cell_type": "markdown",
      "metadata": {
        "id": "view-in-github",
        "colab_type": "text"
      },
      "source": [
        "<a href=\"https://colab.research.google.com/github/AntonioCartuche/Complejidad-Algoritmica-Practica-3/blob/main/Teor%C3%ADa_Eficiencia_de_un_algoritmo.ipynb\" target=\"_parent\"><img src=\"https://colab.research.google.com/assets/colab-badge.svg\" alt=\"Open In Colab\"/></a>"
      ]
    },
    {
      "cell_type": "markdown",
      "source": [
        "# EFICIENCIA DE UN ALGORÍTMO\n",
        "\n",
        "Unidad: Compeljidad Algorírtmica\n",
        "\n",
        "Estudiante: Antonio Cartuche\n",
        "\n"
      ],
      "metadata": {
        "id": "QnBsdcFwShny"
      }
    },
    {
      "cell_type": "markdown",
      "source": [
        "Comlejidad de un Algorítmo\n",
        "\n",
        "A la hora de implementar un algoritmo es importante tener en cuenta la eficiencia de ese algoritmo, esto quiere decir, los recursos informáticos que va a anecesitar ese algoritmo para poderse ejecutarse. Por lo tanto se va a necesitar un método para evaluar la eficiencia de un algoritmo independientemente de:\n",
        "\n",
        "\n",
        "\n",
        "1.   El ordenador donde se ejecute\n",
        "2.   El lenguaje de programació en el que esté implementado\n",
        "\n",
        "1.   El sistema operativo\n",
        "2.   Otros factores externos al propio algoritmo\n",
        "\n",
        "Para ello se va a tener le método de la notación asintótica, y se toparan conceptos como orden de complejidad de un algorítmo y la O grande\n",
        "\n",
        "La notación sintó´tca va a permitir representar de una forma general la cantidad de operaciones que requiere un algorítmo para una cantidad de datos dada de entrada. Existen diferentes tipos de notación asintótica, y la que se va a estar viendo es la notación O grande, pero tambien eta la Omega grane y la Z grande.\n",
        "\n",
        "Hoy en dia los ordenadores son puy potentes y pueden ejecutar programas en fracciones de timepo inapreciables, por tanto no va a ser tan importente lo que tarde un algorítmo en ejecutarse con una cantdad de datos pequeña que apenas se va apreciar y tampoco seria muy util para distinguir un algoritmo de otro sino lo que va a interesar va a ser como se comporta ese algoritmo a mdeida que los datos de entrada aumenta, esto va a er imprtante ya que a medida que crecen los datos el timepo de ejecucion puede crecer de una manera o otra, y si ese creciiento de algoritmo s muy grande, los timpos de ejecuicon se pueden disparar y pueden convertir el tiempo de ejecuccion de ese algoritmo en impracticable.\n"
      ],
      "metadata": {
        "id": "iISCwxI9VSHC"
      }
    },
    {
      "cell_type": "markdown",
      "source": [
        " O GRANDE"
      ],
      "metadata": {
        "id": "uaZAEOV0bDIG"
      }
    },
    {
      "cell_type": "markdown",
      "source": [
        "Orden de complejidad:\n",
        "\n",
        "\n",
        "\n",
        "\n",
        "\n",
        "1.   O(1)  -    Constante\n",
        "2.   O(n) - lineal\n",
        "\n",
        "1.   O(n^2) - cuadrático\n",
        "2.   O(n^a) - polinomial\n",
        "\n",
        "1.   O(log n) - Logarítmico\n",
        "2.   O(2^n) - exponencial\n",
        "\n",
        "En resumen la notación asintótica \n",
        "\n",
        "- Es una medida estimada \n",
        "- Se ignoran las constantes \n",
        "- Se toma sólo el término mas complejo\n"
      ],
      "metadata": {
        "id": "nWa3XpyAbJrV"
      }
    }
  ]
}